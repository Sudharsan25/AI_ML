{
 "cells": [
  {
   "cell_type": "markdown",
   "id": "49ef8991",
   "metadata": {},
   "source": [
    "## Linear alzebra 2: Matix operations"
   ]
  },
  {
   "cell_type": "code",
   "execution_count": null,
   "id": "c4d7dfaf",
   "metadata": {},
   "outputs": [],
   "source": []
  },
  {
   "cell_type": "code",
   "execution_count": 1,
   "id": "0f6665d3",
   "metadata": {},
   "outputs": [],
   "source": [
    "import numpy as np"
   ]
  },
  {
   "cell_type": "code",
   "execution_count": 2,
   "id": "f4e293c0",
   "metadata": {},
   "outputs": [],
   "source": [
    "v  = np.array([1,3])"
   ]
  },
  {
   "cell_type": "code",
   "execution_count": 4,
   "id": "f5955e6b",
   "metadata": {},
   "outputs": [
    {
     "data": {
      "text/plain": [
       "array([1, 3])"
      ]
     },
     "execution_count": 4,
     "metadata": {},
     "output_type": "execute_result"
    }
   ],
   "source": [
    "v"
   ]
  },
  {
   "cell_type": "code",
   "execution_count": 6,
   "id": "edaafecb",
   "metadata": {},
   "outputs": [
    {
     "data": {
      "text/plain": [
       "array([1, 3])"
      ]
     },
     "execution_count": 6,
     "metadata": {},
     "output_type": "execute_result"
    }
   ],
   "source": [
    "# flip over the x-axis\n",
    "\n",
    "v = np.array([1, -3])\n",
    "Ev = np.array([[1,0],[0,-1]])\n",
    "\n",
    "v2 = np.dot(Ev, v)\n",
    "v2"
   ]
  },
  {
   "cell_type": "code",
   "execution_count": 8,
   "id": "3961f947",
   "metadata": {},
   "outputs": [
    {
     "data": {
      "text/plain": [
       "array([2, 6])"
      ]
     },
     "execution_count": 8,
     "metadata": {},
     "output_type": "execute_result"
    }
   ],
   "source": [
    "# scale by 2\n",
    "\n",
    "v = np.array([1, 3])\n",
    "Ev = np.array([[2,0],[0,2]])\n",
    "v2 = np.dot(Ev, v)\n",
    "v2"
   ]
  },
  {
   "cell_type": "markdown",
   "id": "fd9646a6",
   "metadata": {},
   "source": [
    "### Eigenvalues and Eigenvectors"
   ]
  },
  {
   "cell_type": "code",
   "execution_count": 9,
   "id": "7923a52f",
   "metadata": {},
   "outputs": [],
   "source": [
    "# Eigenvectors are charateristic vectors of a matrix \n",
    "# A vector v is eigenvector if it maintains the same direction after transformation by A\n",
    "\n",
    "# Eigenvalue is simply a scalar that scales the eigenvector\n",
    "# A vector v is eigenvector of a matrix A if\n",
    "# A*v = λ*v\n",
    "\n",
    "A = np.array([[-1, 4], [2, -2]])"
   ]
  },
  {
   "cell_type": "code",
   "execution_count": null,
   "id": "f969a41b",
   "metadata": {},
   "outputs": [],
   "source": [
    "# Eigenvalues and eigenvectors of a matirx A can be dervied using QR decomposition\n",
    "\n",
    "### TODO LATER"
   ]
  },
  {
   "cell_type": "code",
   "execution_count": 11,
   "id": "aed448ae",
   "metadata": {},
   "outputs": [],
   "source": [
    "lambdas, v = np.linalg.eig(A)"
   ]
  },
  {
   "cell_type": "code",
   "execution_count": 15,
   "id": "b646531d",
   "metadata": {},
   "outputs": [
    {
     "data": {
      "text/plain": [
       "array([[ 0.86011126, -0.76454754],\n",
       "       [ 0.51010647,  0.64456735]])"
      ]
     },
     "execution_count": 15,
     "metadata": {},
     "output_type": "execute_result"
    }
   ],
   "source": [
    "v # there are n no. of eigenvectors for a matrix with n columns (2 vectors for 2x2 matrix)"
   ]
  },
  {
   "cell_type": "code",
   "execution_count": 16,
   "id": "41b14d47",
   "metadata": {},
   "outputs": [
    {
     "data": {
      "text/plain": [
       "array([ 1.37228132, -4.37228132])"
      ]
     },
     "execution_count": 16,
     "metadata": {},
     "output_type": "execute_result"
    }
   ],
   "source": [
    "lambdas # there are n no. of eigenvalues for a matrix with n columns  (2 values for 2x2 matrix)"
   ]
  },
  {
   "cell_type": "code",
   "execution_count": 18,
   "id": "782a23e9",
   "metadata": {},
   "outputs": [
    {
     "name": "stdout",
     "output_type": "stream",
     "text": [
      "LHS = RHS: [ True  True]\n",
      "Eigenvalue:  1.3722813232690143\n",
      "Eigenvector:  [0.86011126 0.51010647]\n",
      "\n",
      "LHS = RHS: [ True  True]\n",
      "Eigenvalue:  -4.372281323269014\n",
      "Eigenvector:  [-0.76454754  0.64456735]\n",
      "\n"
     ]
    }
   ],
   "source": [
    "# confim that A*v = λ*v for each eigenvector\n",
    "\n",
    "for i in range(len(lambdas)):\n",
    "    lhs = A @ v[:,i]\n",
    "    rhs = lambdas[i] * v[:,i]\n",
    "    print(f\"LHS = RHS: {lhs == rhs}\") # @ is matrix multiplication and * is element-wise multiplication\n",
    "    print(\"Eigenvalue: \", lambdas[i])\n",
    "    print(\"Eigenvector: \", v[:, i])\n",
    "    print()\n"
   ]
  },
  {
   "cell_type": "code",
   "execution_count": 20,
   "id": "5862099b",
   "metadata": {},
   "outputs": [
    {
     "name": "stdout",
     "output_type": "stream",
     "text": [
      "Eigenvalues:  tensor([ 1.3723+0.j, -4.3723+0.j])\n"
     ]
    }
   ],
   "source": [
    "import torch\n",
    "\n",
    "# torch.eig() is used to compute the eigenvalues and eigenvectors of a square matrix\n",
    "# although it is deprecated in favor of torch.linalg.eig()\n",
    "# it returns only the eigenvalues, not the eigenvectors\n",
    "# set the parameter 'eigenvectors' to True to get the eigenvectors\n",
    "\n",
    "A = torch.tensor([[-1, 4], [2, -2]], dtype=torch.float32)\n",
    "eigenvalues, eigenvectors = torch.linalg.eig(A)\n",
    "print(\"Eigenvalues: \", eigenvalues)"
   ]
  },
  {
   "cell_type": "code",
   "execution_count": 21,
   "id": "d7fd5e0c",
   "metadata": {},
   "outputs": [
    {
     "data": {
      "text/plain": [
       "tensor([[ 0.8601+0.j, -0.7645+0.j],\n",
       "        [ 0.5101+0.j,  0.6446+0.j]])"
      ]
     },
     "execution_count": 21,
     "metadata": {},
     "output_type": "execute_result"
    }
   ],
   "source": [
    "eigenvectors"
   ]
  },
  {
   "cell_type": "code",
   "execution_count": 22,
   "id": "0abdf76b",
   "metadata": {},
   "outputs": [
    {
     "name": "stdout",
     "output_type": "stream",
     "text": [
      "Eigenvalues:  [-5.2296696  -0.02635282  7.25602242]\n",
      "Eigenvectors:  [[ 0.22578016 -0.75769839 -0.49927017]\n",
      " [ 0.52634845  0.63212771 -0.46674201]\n",
      " [-0.81974424 -0.16219652 -0.72998712]]\n"
     ]
    }
   ],
   "source": [
    "# Eigenvectors for more than 2 dimensions\n",
    "\n",
    "A = np.array([[1, 2, 3], [0, 1, 4], [5, 6, 0]])\n",
    "\n",
    "lambdas, v = np.linalg.eig(A)\n",
    "print(\"Eigenvalues: \", lambdas)\n",
    "print(\"Eigenvectors: \", v)"
   ]
  },
  {
   "cell_type": "code",
   "execution_count": 25,
   "id": "f8222ab6",
   "metadata": {},
   "outputs": [
    {
     "name": "stdout",
     "output_type": "stream",
     "text": [
      "Determinant:  25.99999999999999\n"
     ]
    }
   ],
   "source": [
    "# Matrix determinant\n",
    "\n",
    "# The determinant of a matrix is a scalar value that can be computed from the elements of a square matrix\n",
    "# any matrix with det = 0 is singular and not invertible\n",
    "A = np.array([[8, 2], [3, 4]])\n",
    "\n",
    "det = np.linalg.det(A)\n",
    "print(\"Determinant: \", det)"
   ]
  },
  {
   "cell_type": "code",
   "execution_count": 26,
   "id": "de09cfcb",
   "metadata": {},
   "outputs": [
    {
     "name": "stdout",
     "output_type": "stream",
     "text": [
      "Determinant of 5x5 matrix:  -0.0844630036697073\n"
     ]
    }
   ],
   "source": [
    "# Deteiminant of a 5x5 matrix\n",
    "\n",
    "A = np.random.rand(5, 5)\n",
    "det = np.linalg.det(A)\n",
    "print(\"Determinant of 5x5 matrix: \", det)"
   ]
  },
  {
   "cell_type": "code",
   "execution_count": 27,
   "id": "cc573977",
   "metadata": {},
   "outputs": [
    {
     "name": "stdout",
     "output_type": "stream",
     "text": [
      "Formula for determinant of n x n matrix: \n",
      "det(A) = a11 * det(A11) - a12 * det(A12) + a13 * det(A13) - ... + (-1)^(n+1) * a1n * det(A1n)\n"
     ]
    }
   ],
   "source": [
    "# general formula for determinant of an n x n matrix\n",
    "\n",
    "# det(A) = a11 * det(A11) - a12 * det(A12) + a13 * det(A13) - ... + (-1)^(n+1) * a1n * det(A1n)\n",
    "\n",
    "# where Aij is the matrix obtained by removing the ith row and jth column from A\n",
    "\n",
    "print(\"Formula for determinant of n x n matrix: \")\n",
    "print(\"det(A) = a11 * det(A11) - a12 * det(A12) + a13 * det(A13) - ... + (-1)^(n+1) * a1n * det(A1n)\")"
   ]
  },
  {
   "cell_type": "code",
   "execution_count": 28,
   "id": "aadfc228",
   "metadata": {},
   "outputs": [
    {
     "name": "stdout",
     "output_type": "stream",
     "text": [
      "Determinant of X:  -1.9999999999999998\n",
      "Eigenvalues of X:  [-0.37228132  5.37228132]\n",
      "Product of eigenvalues:  -1.9999999999999998\n"
     ]
    }
   ],
   "source": [
    "# a det(x) is product of all the eigenvalues of the matrix\n",
    " \n",
    "X = np.array([[1, 2], [3, 4]])\n",
    "\n",
    "lambdas, v = np.linalg.eig(X)\n",
    "det = np.prod(lambdas)\n",
    "\n",
    "print(\"Determinant of X: \", det)\n",
    "print(\"Eigenvalues of X: \", lambdas)\n",
    "print(\"Product of eigenvalues: \", np.prod(lambdas))"
   ]
  },
  {
   "cell_type": "code",
   "execution_count": 29,
   "id": "75099101",
   "metadata": {},
   "outputs": [],
   "source": [
    "# Eigendecomposition\n",
    "\n",
    "# Eigendecomposition is the process of decomposing a matrix into its eigenvalues and eigenvectors\n",
    "# A = PDP^-1\n",
    "# where P is the matrix of eigenvectors and D is the diagonal matrix of eigenvalues"
   ]
  },
  {
   "cell_type": "code",
   "execution_count": 30,
   "id": "863e37cf",
   "metadata": {},
   "outputs": [
    {
     "name": "stdout",
     "output_type": "stream",
     "text": [
      "Reconstructed matrix: \n",
      "[[1. 2.]\n",
      " [3. 4.]]\n",
      "Original matrix: \n",
      "[[1 2]\n",
      " [3 4]]\n"
     ]
    }
   ],
   "source": [
    "A = np.array([[1, 2], [3, 4]])\n",
    "\n",
    "# perform eigendecomposition\n",
    "\n",
    "lambdas, v = np.linalg.eig(A)\n",
    "\n",
    "D = np.diag(lambdas)\n",
    "P = v\n",
    "P_inv = np.linalg.inv(P)\n",
    "\n",
    "A_reconstructed = P @ D @ P_inv\n",
    "print(\"Reconstructed matrix: \")\n",
    "print(A_reconstructed)\n",
    "\n",
    "print(\"Original matrix: \")\n",
    "print(A)"
   ]
  },
  {
   "cell_type": "code",
   "execution_count": 32,
   "id": "694a0283",
   "metadata": {},
   "outputs": [],
   "source": [
    "# SVD\n",
    "\n",
    "# Todo later"
   ]
  },
  {
   "cell_type": "code",
   "execution_count": 33,
   "id": "b451485d",
   "metadata": {},
   "outputs": [],
   "source": [
    "# Compression of image using SVD\n",
    "\n",
    "# Todo later"
   ]
  },
  {
   "cell_type": "code",
   "execution_count": 35,
   "id": "9a3f4566",
   "metadata": {},
   "outputs": [],
   "source": [
    "A = np.array([[1,2,],[3,4,],[5,6,]])"
   ]
  },
  {
   "cell_type": "code",
   "execution_count": 36,
   "id": "1c6374c7",
   "metadata": {},
   "outputs": [],
   "source": [
    "U, D, VT = np.linalg.svd(A)"
   ]
  },
  {
   "cell_type": "code",
   "execution_count": 37,
   "id": "db6e7840",
   "metadata": {},
   "outputs": [
    {
     "data": {
      "text/plain": [
       "array([[-0.2298477 ,  0.88346102,  0.40824829],\n",
       "       [-0.52474482,  0.24078249, -0.81649658],\n",
       "       [-0.81964194, -0.40189603,  0.40824829]])"
      ]
     },
     "execution_count": 37,
     "metadata": {},
     "output_type": "execute_result"
    }
   ],
   "source": [
    "U"
   ]
  },
  {
   "cell_type": "code",
   "execution_count": 38,
   "id": "b610bbcc",
   "metadata": {},
   "outputs": [
    {
     "data": {
      "text/plain": [
       "array([[-0.61962948, -0.78489445],\n",
       "       [-0.78489445,  0.61962948]])"
      ]
     },
     "execution_count": 38,
     "metadata": {},
     "output_type": "execute_result"
    }
   ],
   "source": [
    "VT"
   ]
  },
  {
   "cell_type": "code",
   "execution_count": 39,
   "id": "0bfa18be",
   "metadata": {},
   "outputs": [
    {
     "data": {
      "text/plain": [
       "array([9.52551809, 0.51430058])"
      ]
     },
     "execution_count": 39,
     "metadata": {},
     "output_type": "execute_result"
    }
   ],
   "source": [
    "D"
   ]
  },
  {
   "cell_type": "markdown",
   "id": "9713989b",
   "metadata": {},
   "source": [
    "### Moore-penrose pseudoinverse"
   ]
  },
  {
   "cell_type": "code",
   "execution_count": 40,
   "id": "26b5d8d7",
   "metadata": {},
   "outputs": [
    {
     "data": {
      "text/plain": [
       "array([[9.52551809, 0.        ],\n",
       "       [0.        , 0.51430058]])"
      ]
     },
     "execution_count": 40,
     "metadata": {},
     "output_type": "execute_result"
    }
   ],
   "source": [
    "D = np.diag(D)\n",
    "D"
   ]
  },
  {
   "cell_type": "code",
   "execution_count": 42,
   "id": "5ba11008",
   "metadata": {},
   "outputs": [],
   "source": [
    "Dinv = np.linalg.inv(D)"
   ]
  },
  {
   "cell_type": "code",
   "execution_count": 43,
   "id": "7cf6f534",
   "metadata": {},
   "outputs": [
    {
     "data": {
      "text/plain": [
       "array([[0.10498117, 0.        ],\n",
       "       [0.        , 1.94438824]])"
      ]
     },
     "execution_count": 43,
     "metadata": {},
     "output_type": "execute_result"
    }
   ],
   "source": [
    "Dinv"
   ]
  },
  {
   "cell_type": "code",
   "execution_count": 44,
   "id": "149d584b",
   "metadata": {},
   "outputs": [
    {
     "data": {
      "text/plain": [
       "array([[0.10498117, 0.        , 0.        ],\n",
       "       [0.        , 1.94438824, 0.        ]])"
      ]
     },
     "execution_count": 44,
     "metadata": {},
     "output_type": "execute_result"
    }
   ],
   "source": [
    "Dplus = np.concatenate((Dinv, np.array([[0,0]]).T),axis=1)\n",
    "Dplus"
   ]
  },
  {
   "cell_type": "code",
   "execution_count": 45,
   "id": "e0db07e7",
   "metadata": {},
   "outputs": [
    {
     "data": {
      "text/plain": [
       "array([[-1.33333333, -0.33333333,  0.66666667],\n",
       "       [ 1.08333333,  0.33333333, -0.41666667]])"
      ]
     },
     "execution_count": 45,
     "metadata": {},
     "output_type": "execute_result"
    }
   ],
   "source": [
    "np.dot(VT.T, np.dot(Dplus, U.T))"
   ]
  },
  {
   "cell_type": "code",
   "execution_count": 46,
   "id": "a810c51c",
   "metadata": {},
   "outputs": [
    {
     "data": {
      "text/plain": [
       "array([[-1.33333333, -0.33333333,  0.66666667],\n",
       "       [ 1.08333333,  0.33333333, -0.41666667]])"
      ]
     },
     "execution_count": 46,
     "metadata": {},
     "output_type": "execute_result"
    }
   ],
   "source": [
    "# numpy function for pseudoinverse\n",
    "\n",
    "np.linalg.pinv(A)"
   ]
  },
  {
   "cell_type": "code",
   "execution_count": null,
   "id": "519b398f",
   "metadata": {},
   "outputs": [],
   "source": []
  }
 ],
 "metadata": {
  "kernelspec": {
   "display_name": "Python 3",
   "language": "python",
   "name": "python3"
  },
  "language_info": {
   "codemirror_mode": {
    "name": "ipython",
    "version": 3
   },
   "file_extension": ".py",
   "mimetype": "text/x-python",
   "name": "python",
   "nbconvert_exporter": "python",
   "pygments_lexer": "ipython3",
   "version": "3.12.9"
  }
 },
 "nbformat": 4,
 "nbformat_minor": 5
}
