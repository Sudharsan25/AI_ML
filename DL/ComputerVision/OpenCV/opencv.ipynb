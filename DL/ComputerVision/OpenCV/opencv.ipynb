{
 "cells": [
  {
   "cell_type": "markdown",
   "id": "e8a72cab",
   "metadata": {},
   "source": [
    "### Reading and Writing images"
   ]
  },
  {
   "cell_type": "code",
   "execution_count": null,
   "id": "8b37b8fc",
   "metadata": {},
   "outputs": [],
   "source": []
  }
 ],
 "metadata": {
  "kernelspec": {
   "display_name": "ai",
   "language": "python",
   "name": "python3"
  },
  "language_info": {
   "name": "python",
   "version": "3.10.16"
  }
 },
 "nbformat": 4,
 "nbformat_minor": 5
}
