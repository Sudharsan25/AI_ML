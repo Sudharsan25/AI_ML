{
 "cells": [
  {
   "cell_type": "code",
   "execution_count": 1,
   "id": "46c34941",
   "metadata": {},
   "outputs": [],
   "source": [
    "import cv2\n",
    "import numpy as np\n",
    "import matplotlib.pyplot as plt"
   ]
  },
  {
   "cell_type": "code",
   "execution_count": null,
   "id": "d2adbc32",
   "metadata": {},
   "outputs": [],
   "source": [
    "image = cv2.imread(\"../images/handwritten.jpeg\", 0)\n",
    "\n",
    "plt.imshow(image, cmap='grey')"
   ]
  },
  {
   "cell_type": "code",
   "execution_count": null,
   "id": "39a418c9",
   "metadata": {},
   "outputs": [],
   "source": [
    "retval, binary = cv2.threshold(image, 150, 255, cv2.THRESH_BINARY)\n",
    "\n",
    "plt.figure(figsize=(12,7))\n",
    "\n",
    "plt.imshow(binary, cmap='grey')\n",
    "plt.show()"
   ]
  },
  {
   "cell_type": "code",
   "execution_count": null,
   "id": "cc16cf0c",
   "metadata": {},
   "outputs": [],
   "source": [
    "# Adaptive thresholding\n",
    "\n",
    "adaptive_m = cv2.adaptiveThreshold(image, 255, cv2.ADAPTIVE_THRESH_MEAN_C, cv2.THRESH_BINARY, 11, 15)\n",
    "\n",
    "adaptive_g = cv2.adaptiveThreshold(image, 255, cv2.ADAPTIVE_THRESH_GAUSSIAN_C, cv2.THRESH_BINARY, 11, 15)"
   ]
  },
  {
   "cell_type": "code",
   "execution_count": null,
   "id": "153f5ff3",
   "metadata": {},
   "outputs": [],
   "source": [
    "plt.imshow(adaptive_m, cmap='grey')\n",
    "plt.title(\"Adaptive mean thresholding\")\n",
    "plt.show()"
   ]
  },
  {
   "cell_type": "code",
   "execution_count": null,
   "id": "15d0cb10",
   "metadata": {},
   "outputs": [],
   "source": [
    "plt.imshow(adaptive_g, cmap='grey')\n",
    "plt.title(\"Adaptive guassian thresholding\")\n",
    "plt.show()"
   ]
  },
  {
   "cell_type": "code",
   "execution_count": null,
   "id": "e29d69bd",
   "metadata": {},
   "outputs": [],
   "source": [
    "# K- means clustering\n",
    "\n",
    "image = cv2.imread(\"../images/shapes.jpg\")\n",
    "image = cv2.cvtColor(image, cv2.COLOR_BGR2RGB)\n",
    "pixel_values = image.reshape((-1, 3))\n",
    "pixel_values = np.float32(pixel_values)\n",
    "print(pixel_values)\n",
    "\n"
   ]
  },
  {
   "cell_type": "code",
   "execution_count": null,
   "id": "5feb3300",
   "metadata": {},
   "outputs": [],
   "source": [
    "criteria = (cv2.TERM_CRITERIA_EPS + cv2.TERM_CRITERIA_MAX_ITER, 100, 0.2)\n",
    "k = 3\n",
    "\n",
    "_, labels, centers = cv2.kmeans(pixel_values, k, None, criteria, 10, cv2.KMEANS_RANDOM_CENTERS)"
   ]
  },
  {
   "cell_type": "code",
   "execution_count": null,
   "id": "c9f4de65",
   "metadata": {},
   "outputs": [],
   "source": [
    "centers = np.uint8(centers)\n",
    "segmented_image = centers[labels.flatten()]\n",
    "segmented_image = segmented_image.reshape(image.shape)\n",
    "\n",
    "# 1 --> [255, 255, 255]\n",
    "# 0 --> [70,110, 167]\n",
    "\n",
    "plt.figure(figsize=(12,7))\n",
    "\n",
    "plt.subplot(1,2,1)\n",
    "plt.imshow(image)\n",
    "plt.title(\"Original image\")\n",
    "\n",
    "plt.subplot(1,2,2)\n",
    "plt.imshow(segmented_image)\n",
    "plt.title(\"Segmented image\")\n",
    "\n",
    "plt.show()"
   ]
  }
 ],
 "metadata": {
  "kernelspec": {
   "display_name": "ai-env",
   "language": "python",
   "name": "python3"
  },
  "language_info": {
   "codemirror_mode": {
    "name": "ipython",
    "version": 3
   },
   "file_extension": ".py",
   "mimetype": "text/x-python",
   "name": "python",
   "nbconvert_exporter": "python",
   "pygments_lexer": "ipython3",
   "version": "3.10.18"
  }
 },
 "nbformat": 4,
 "nbformat_minor": 5
}
